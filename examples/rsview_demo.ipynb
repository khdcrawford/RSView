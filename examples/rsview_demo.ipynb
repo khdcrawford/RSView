{
 "cells": [
  {
   "cell_type": "markdown",
   "metadata": {},
   "source": [
    "# Using RSView\n",
    "\n",
    "This notebook walks through how to use the main scripts for the ``RSView`` project by Jilliane, Kate, and Katie. \n",
    "\n",
    "This program is writen to mainly be run on the command line, so most scripts are run as if from the command line (using '!')."
   ]
  },
  {
   "cell_type": "markdown",
   "metadata": {},
   "source": [
    "## Download sequencing data\n",
    "\n",
    "Example usage of `seq_download.py` to download respiratory syncytial virus (RSV) G protein sequences and metadata from GenBank.\n",
    "\n",
    "Note: This notebook requires that ``rsview`` has been installed. Additionally, if one would like to run particular scripts, ``rsview`` can be imported and specific scripts can be called like any other python module. The code below is for running our package as you would on the command line, which relies on `argparse` arguments for user input.  "
   ]
  },
  {
   "cell_type": "markdown",
   "metadata": {},
   "source": [
    "To get a sense of what `seq_download.py` does, let's first look at the help."
   ]
  },
  {
   "cell_type": "code",
   "execution_count": 1,
   "metadata": {},
   "outputs": [
    {
     "name": "stdout",
     "output_type": "stream",
     "text": [
      "usage: seq_download.py [-h] --email EMAIL --query QUERY --outdir OUTDIR\n",
      "                       [--outprefix OUTPREFIX] [--db DB] [--firstseq FIRSTSEQ]\n",
      "                       [--filesize FILESIZE] [--maxseqs MAXSEQS]\n",
      "                       [--batchsize BATCHSIZE] [--filetype FILETYPE]\n",
      "                       [--outmode OUTMODE]\n",
      "\n",
      "Downloads RSV G protein sequences & metadata from Genbank. This program is\n",
      "part of rsview (version 0.dev1) written by Jilliane Bruffey, Kate Dusenbury,\n",
      "and Katie Kistler.For documentation, see https://github.com/khdusenbury/RSView\n",
      "\n",
      "optional arguments:\n",
      "  -h, --help            show this help message and exit\n",
      "  --email EMAIL         User email for GenBank download. (default: None)\n",
      "  --query QUERY         Search term(s) for downloading sequences from GenBank.\n",
      "                        (default: None)\n",
      "  --outdir OUTDIR       Directoryfor downloaded data. (default: None)\n",
      "  --outprefix OUTPREFIX\n",
      "                        Beginning of file name for output `.csv`. Suffix will\n",
      "                        specify number of sequences downloaded. (default:\n",
      "                        RSVG_gb_metadata)\n",
      "  --db DB               Entrez database to search. (default: nuccore)\n",
      "  --firstseq FIRSTSEQ   Index of first sequence to download. (default: 0)\n",
      "  --filesize FILESIZE   Number of seqs to download into one file. Default of\n",
      "                        5000 balances download time and minimizing the number\n",
      "                        of separate files. (default: 5000)\n",
      "  --maxseqs MAXSEQS     Maximum number of sequence hits to search for and\n",
      "                        download across all output files. (default: 20000)\n",
      "  --batchsize BATCHSIZE\n",
      "                        Number seqs to download in one retrieval. If much\n",
      "                        larger than 100, download will be quite slow.\n",
      "                        (default: 100)\n",
      "  --filetype FILETYPE   File type of sequences downloaded from GenBank.\n",
      "                        (default: gb)\n",
      "  --outmode OUTMODE     File type for results of GenBank query. (default: xml)\n"
     ]
    }
   ],
   "source": [
    "! seq_download.py --help"
   ]
  },
  {
   "cell_type": "markdown",
   "metadata": {},
   "source": [
    "There are lots of optional arguments which are mostly required by `Bio.Entrez` for GenBank downloads."
   ]
  },
  {
   "cell_type": "markdown",
   "metadata": {},
   "source": [
    "### Downloading a small set of data\n",
    "\n",
    "Next, let's go through downloading data using `seq_download.py`. All optional arguments will remain with their default values except those we need to change to select a random start location and set the download size to 500 sequences. \n",
    "\n",
    "The mapping and plotting examples will use the full dataset, but since downloading takes a while, this example just downloads a small portion.\n",
    "\n",
    "This example is still for downloading RSV G sequences. Theoretically this workflow could be adapted to other viruses, but the subtype and genotype calling that `seq_download.py` and `genotype.py` do are quite specific to RSV G. "
   ]
  },
  {
   "cell_type": "code",
   "execution_count": 2,
   "metadata": {},
   "outputs": [
    {
     "name": "stdout",
     "output_type": "stream",
     "text": [
      "2201\n",
      "2701\n"
     ]
    }
   ],
   "source": [
    "import random\n",
    "\n",
    "random.seed(1)\n",
    "start = random.choice(range(0, 15000))\n",
    "print(start)\n",
    "print(start + 500)"
   ]
  },
  {
   "cell_type": "code",
   "execution_count": 3,
   "metadata": {
    "scrolled": false
   },
   "outputs": [
    {
     "name": "stdout",
     "output_type": "stream",
     "text": [
      "\n",
      "Executing seq_download.py (0.dev1) in /Users/khdusenbury/CSE583/RSView/examples at Thu Dec 13 00:25:06 2018.\n",
      "\n",
      "There are at least 2701 IDs that match the query:\n",
      "\thuman respiratory syncytial virus G\n",
      "`--maxseqs` may be limiting number of IDs returned.\n",
      "\n",
      "Downloading seq file number 1 of 1.\n",
      "Saving sequences and metadata to: ./demodata/RSVG_gb_metadata_2201-2701.csv\n",
      "Downloading metadata for seqs: 2201 to 2701\n",
      "Processed 500 seqs\n",
      "Program took 0.449 minutes to run.\n"
     ]
    }
   ],
   "source": [
    "! seq_download.py --email 'dusenk@uw.edu' --query 'human respiratory syncytial virus G' --outdir './demodata' --firstseq 2201 --filesize 500 --maxseqs 2701\n"
   ]
  },
  {
   "cell_type": "code",
   "execution_count": 4,
   "metadata": {},
   "outputs": [
    {
     "data": {
      "text/html": [
       "<div>\n",
       "<style scoped>\n",
       "    .dataframe tbody tr th:only-of-type {\n",
       "        vertical-align: middle;\n",
       "    }\n",
       "\n",
       "    .dataframe tbody tr th {\n",
       "        vertical-align: top;\n",
       "    }\n",
       "\n",
       "    .dataframe thead th {\n",
       "        text-align: right;\n",
       "    }\n",
       "</style>\n",
       "<table border=\"1\" class=\"dataframe\">\n",
       "  <thead>\n",
       "    <tr style=\"text-align: right;\">\n",
       "      <th></th>\n",
       "      <th>G_seq</th>\n",
       "      <th>collection_date</th>\n",
       "      <th>country</th>\n",
       "      <th>db_xref</th>\n",
       "      <th>genotype</th>\n",
       "      <th>host</th>\n",
       "      <th>mol_type</th>\n",
       "      <th>note</th>\n",
       "      <th>organism</th>\n",
       "      <th>strain</th>\n",
       "      <th>subtype</th>\n",
       "      <th>clone</th>\n",
       "      <th>collected_by</th>\n",
       "      <th>isolate</th>\n",
       "      <th>isolation_source</th>\n",
       "    </tr>\n",
       "  </thead>\n",
       "  <tbody>\n",
       "    <tr>\n",
       "      <th>490</th>\n",
       "      <td>LTTKPTGKPTINTTKTNIRTTLITSNTKGNPEHTSQEETLHSTTSE...</td>\n",
       "      <td>Jan-2014</td>\n",
       "      <td>Turkey</td>\n",
       "      <td>taxon:11250</td>\n",
       "      <td>ON1</td>\n",
       "      <td>Homo sapiens</td>\n",
       "      <td>viral cRNA</td>\n",
       "      <td>genotype: RSVA/ON1</td>\n",
       "      <td>Human orthopneumovirus</td>\n",
       "      <td>NaN</td>\n",
       "      <td>A</td>\n",
       "      <td>NaN</td>\n",
       "      <td>NaN</td>\n",
       "      <td>ANK/43/2014</td>\n",
       "      <td>NaN</td>\n",
       "    </tr>\n",
       "    <tr>\n",
       "      <th>491</th>\n",
       "      <td>LTTKPTGKPTINTTKTNIRTTLITSNTKGNPEHTSQEETLHSTTSE...</td>\n",
       "      <td>Jan-2014</td>\n",
       "      <td>Turkey</td>\n",
       "      <td>taxon:11250</td>\n",
       "      <td>ON1</td>\n",
       "      <td>Homo sapiens</td>\n",
       "      <td>viral cRNA</td>\n",
       "      <td>genotype: RSVA/ON1</td>\n",
       "      <td>Human orthopneumovirus</td>\n",
       "      <td>NaN</td>\n",
       "      <td>A</td>\n",
       "      <td>NaN</td>\n",
       "      <td>NaN</td>\n",
       "      <td>ANK/30/2014</td>\n",
       "      <td>NaN</td>\n",
       "    </tr>\n",
       "    <tr>\n",
       "      <th>492</th>\n",
       "      <td>LTTKPTGKPTINTTKTNIRTTLITSNTKGNPEHTSQEETLHSTTSE...</td>\n",
       "      <td>Jan-2014</td>\n",
       "      <td>Turkey</td>\n",
       "      <td>taxon:11250</td>\n",
       "      <td>ON1</td>\n",
       "      <td>Homo sapiens</td>\n",
       "      <td>viral cRNA</td>\n",
       "      <td>genotype: RSVA/ON1</td>\n",
       "      <td>Human orthopneumovirus</td>\n",
       "      <td>NaN</td>\n",
       "      <td>A</td>\n",
       "      <td>NaN</td>\n",
       "      <td>NaN</td>\n",
       "      <td>ANK/28/2014</td>\n",
       "      <td>NaN</td>\n",
       "    </tr>\n",
       "    <tr>\n",
       "      <th>493</th>\n",
       "      <td>MSKNKNQRTARTLEKTWDTLNHLIVISSCLYKLNLKSIAQIALSVL...</td>\n",
       "      <td>23-Feb-2015</td>\n",
       "      <td>Argentina</td>\n",
       "      <td>taxon:11250</td>\n",
       "      <td>NaN</td>\n",
       "      <td>Homo sapiens</td>\n",
       "      <td>viral cRNA</td>\n",
       "      <td>subtype: B</td>\n",
       "      <td>Human orthopneumovirus</td>\n",
       "      <td>NaN</td>\n",
       "      <td>B</td>\n",
       "      <td>NaN</td>\n",
       "      <td>NaN</td>\n",
       "      <td>HRSV/B/BuenosAires/ARG/002sanger/2015</td>\n",
       "      <td>Nasopharyngeal aspirate</td>\n",
       "    </tr>\n",
       "    <tr>\n",
       "      <th>494</th>\n",
       "      <td>MSKTKDQRTAKTLERTWDTLNHLLFISSCLYKLNLKSIAQITLSIL...</td>\n",
       "      <td>30-Apr-2015</td>\n",
       "      <td>Argentina</td>\n",
       "      <td>taxon:11250</td>\n",
       "      <td>NaN</td>\n",
       "      <td>Homo sapiens</td>\n",
       "      <td>viral cRNA</td>\n",
       "      <td>subtype: A</td>\n",
       "      <td>Human orthopneumovirus</td>\n",
       "      <td>NaN</td>\n",
       "      <td>A</td>\n",
       "      <td>NaN</td>\n",
       "      <td>NaN</td>\n",
       "      <td>HRSV/A/BuenosAires/ARG/001sanger/2015</td>\n",
       "      <td>Nasopharyngeal aspirate</td>\n",
       "    </tr>\n",
       "    <tr>\n",
       "      <th>495</th>\n",
       "      <td>NaN</td>\n",
       "      <td>07-Jun-2012</td>\n",
       "      <td>Croatia</td>\n",
       "      <td>taxon:208895</td>\n",
       "      <td>BA9</td>\n",
       "      <td>Homo sapiens</td>\n",
       "      <td>viral cRNA</td>\n",
       "      <td>J163;\\ngenotype: BA9</td>\n",
       "      <td>Human respiratory syncytial virus B</td>\n",
       "      <td>NaN</td>\n",
       "      <td>B</td>\n",
       "      <td>NaN</td>\n",
       "      <td>NaN</td>\n",
       "      <td>HR2637-12</td>\n",
       "      <td>NaN</td>\n",
       "    </tr>\n",
       "    <tr>\n",
       "      <th>496</th>\n",
       "      <td>NaN</td>\n",
       "      <td>06-Mar-2014</td>\n",
       "      <td>Croatia</td>\n",
       "      <td>taxon:208895</td>\n",
       "      <td>BA9</td>\n",
       "      <td>Homo sapiens</td>\n",
       "      <td>viral cRNA</td>\n",
       "      <td>J475;\\ngenotype: BA9</td>\n",
       "      <td>Human respiratory syncytial virus B</td>\n",
       "      <td>NaN</td>\n",
       "      <td>B</td>\n",
       "      <td>NaN</td>\n",
       "      <td>NaN</td>\n",
       "      <td>HR530-14</td>\n",
       "      <td>NaN</td>\n",
       "    </tr>\n",
       "    <tr>\n",
       "      <th>497</th>\n",
       "      <td>NaN</td>\n",
       "      <td>04-Mar-2014</td>\n",
       "      <td>Croatia</td>\n",
       "      <td>taxon:208895</td>\n",
       "      <td>BA9</td>\n",
       "      <td>Homo sapiens</td>\n",
       "      <td>viral cRNA</td>\n",
       "      <td>J464;\\ngenotype: BA9</td>\n",
       "      <td>Human respiratory syncytial virus B</td>\n",
       "      <td>NaN</td>\n",
       "      <td>B</td>\n",
       "      <td>NaN</td>\n",
       "      <td>NaN</td>\n",
       "      <td>HR494-14</td>\n",
       "      <td>NaN</td>\n",
       "    </tr>\n",
       "    <tr>\n",
       "      <th>498</th>\n",
       "      <td>NaN</td>\n",
       "      <td>04-Mar-2014</td>\n",
       "      <td>Croatia</td>\n",
       "      <td>taxon:208895</td>\n",
       "      <td>BA9</td>\n",
       "      <td>Homo sapiens</td>\n",
       "      <td>viral cRNA</td>\n",
       "      <td>J463;\\ngenotype: BA9</td>\n",
       "      <td>Human respiratory syncytial virus B</td>\n",
       "      <td>NaN</td>\n",
       "      <td>B</td>\n",
       "      <td>NaN</td>\n",
       "      <td>NaN</td>\n",
       "      <td>HR492-14</td>\n",
       "      <td>NaN</td>\n",
       "    </tr>\n",
       "    <tr>\n",
       "      <th>499</th>\n",
       "      <td>NaN</td>\n",
       "      <td>01-Mar-2014</td>\n",
       "      <td>Croatia</td>\n",
       "      <td>taxon:208895</td>\n",
       "      <td>BA9</td>\n",
       "      <td>Homo sapiens</td>\n",
       "      <td>viral cRNA</td>\n",
       "      <td>J459;\\ngenotype: BA9</td>\n",
       "      <td>Human respiratory syncytial virus B</td>\n",
       "      <td>NaN</td>\n",
       "      <td>B</td>\n",
       "      <td>NaN</td>\n",
       "      <td>NaN</td>\n",
       "      <td>HR471-14</td>\n",
       "      <td>NaN</td>\n",
       "    </tr>\n",
       "  </tbody>\n",
       "</table>\n",
       "</div>"
      ],
      "text/plain": [
       "                                                 G_seq collection_date  \\\n",
       "490  LTTKPTGKPTINTTKTNIRTTLITSNTKGNPEHTSQEETLHSTTSE...        Jan-2014   \n",
       "491  LTTKPTGKPTINTTKTNIRTTLITSNTKGNPEHTSQEETLHSTTSE...        Jan-2014   \n",
       "492  LTTKPTGKPTINTTKTNIRTTLITSNTKGNPEHTSQEETLHSTTSE...        Jan-2014   \n",
       "493  MSKNKNQRTARTLEKTWDTLNHLIVISSCLYKLNLKSIAQIALSVL...     23-Feb-2015   \n",
       "494  MSKTKDQRTAKTLERTWDTLNHLLFISSCLYKLNLKSIAQITLSIL...     30-Apr-2015   \n",
       "495                                                NaN     07-Jun-2012   \n",
       "496                                                NaN     06-Mar-2014   \n",
       "497                                                NaN     04-Mar-2014   \n",
       "498                                                NaN     04-Mar-2014   \n",
       "499                                                NaN     01-Mar-2014   \n",
       "\n",
       "       country       db_xref genotype          host    mol_type  \\\n",
       "490     Turkey   taxon:11250      ON1  Homo sapiens  viral cRNA   \n",
       "491     Turkey   taxon:11250      ON1  Homo sapiens  viral cRNA   \n",
       "492     Turkey   taxon:11250      ON1  Homo sapiens  viral cRNA   \n",
       "493  Argentina   taxon:11250      NaN  Homo sapiens  viral cRNA   \n",
       "494  Argentina   taxon:11250      NaN  Homo sapiens  viral cRNA   \n",
       "495    Croatia  taxon:208895      BA9  Homo sapiens  viral cRNA   \n",
       "496    Croatia  taxon:208895      BA9  Homo sapiens  viral cRNA   \n",
       "497    Croatia  taxon:208895      BA9  Homo sapiens  viral cRNA   \n",
       "498    Croatia  taxon:208895      BA9  Homo sapiens  viral cRNA   \n",
       "499    Croatia  taxon:208895      BA9  Homo sapiens  viral cRNA   \n",
       "\n",
       "                     note                             organism strain subtype  \\\n",
       "490    genotype: RSVA/ON1               Human orthopneumovirus    NaN       A   \n",
       "491    genotype: RSVA/ON1               Human orthopneumovirus    NaN       A   \n",
       "492    genotype: RSVA/ON1               Human orthopneumovirus    NaN       A   \n",
       "493            subtype: B               Human orthopneumovirus    NaN       B   \n",
       "494            subtype: A               Human orthopneumovirus    NaN       A   \n",
       "495  J163;\\ngenotype: BA9  Human respiratory syncytial virus B    NaN       B   \n",
       "496  J475;\\ngenotype: BA9  Human respiratory syncytial virus B    NaN       B   \n",
       "497  J464;\\ngenotype: BA9  Human respiratory syncytial virus B    NaN       B   \n",
       "498  J463;\\ngenotype: BA9  Human respiratory syncytial virus B    NaN       B   \n",
       "499  J459;\\ngenotype: BA9  Human respiratory syncytial virus B    NaN       B   \n",
       "\n",
       "    clone collected_by                                isolate  \\\n",
       "490   NaN          NaN                            ANK/43/2014   \n",
       "491   NaN          NaN                            ANK/30/2014   \n",
       "492   NaN          NaN                            ANK/28/2014   \n",
       "493   NaN          NaN  HRSV/B/BuenosAires/ARG/002sanger/2015   \n",
       "494   NaN          NaN  HRSV/A/BuenosAires/ARG/001sanger/2015   \n",
       "495   NaN          NaN                              HR2637-12   \n",
       "496   NaN          NaN                               HR530-14   \n",
       "497   NaN          NaN                               HR494-14   \n",
       "498   NaN          NaN                               HR492-14   \n",
       "499   NaN          NaN                               HR471-14   \n",
       "\n",
       "            isolation_source  \n",
       "490                      NaN  \n",
       "491                      NaN  \n",
       "492                      NaN  \n",
       "493  Nasopharyngeal aspirate  \n",
       "494  Nasopharyngeal aspirate  \n",
       "495                      NaN  \n",
       "496                      NaN  \n",
       "497                      NaN  \n",
       "498                      NaN  \n",
       "499                      NaN  "
      ]
     },
     "execution_count": 4,
     "metadata": {},
     "output_type": "execute_result"
    }
   ],
   "source": [
    "import pandas as pd\n",
    "\n",
    "demodownload = pd.read_csv('demodata/RSVG_gb_metadata_2201-2701.csv', index_col=0)\n",
    "\n",
    "demodownload[490:]"
   ]
  },
  {
   "cell_type": "markdown",
   "metadata": {},
   "source": [
    "I am only including the last 10 sequences in the dataframe for ease of visualization. \n",
    "\n",
    "As seen by the table above, even after rather extensive parsing, the output of `seq_download.py` is still quite raw. \n",
    "\n",
    "Furthermore, while most (~90%) of sequences have subtypes, many of them are missing genotypes. Only about one third of the sequences in GenBank have genotypes already assigned. \n",
    "\n",
    "To clean the data further and assign additional genotypes, we must next run `genotype.py`."
   ]
  },
  {
   "cell_type": "markdown",
   "metadata": {},
   "source": [
    "## Genotyping and cleaning data\n",
    "\n",
    "The `genotype.py` module can assign sequences a genotype if sequences of that genotype have already been annotated in the downloade dsequences.\n",
    "\n",
    "This module relies on `.fasta` formatting and `mafft` to assign genotypes. It goes through a progressive alignment and then assigns genotypes based on how similar the alignment output for a sequence lacking a genotype is to the alignment output for 'reference' genotype sequences. The 'reference' genotype sequences are determined based on the longest sequence already annotated for a given genotype. \n",
    "\n",
    "Due to the reliance on already genotyped sequences, `genotype.py` requires that there are at least some genotyped and non-genotyped full-length RSV G sequences.\n",
    "\n",
    "This is a very rough way to assign genotypes and is not without error. To control somewhat for error, we do require that new genotypes are only assigned to sequences with known subtypes and  that the genotype assigned matches the provided subtype. There could be subtype errors in the database, but those should also be rare. \n",
    "\n",
    "Furthermore, this method of genotype assignment relies quite heavily on previous genotype sampling and calling, so novel genotypes will not be found. Additionally, I have not tested this, but it is probable that genotypes that are more prevalent in the previously genotyped sequences are assigned more frequently. \n",
    "\n",
    "Despite these (and other) caveats, the `genotype.py` script is able to genotype about another third of sequences. An example for the demo sequences is shown below along with the help info."
   ]
  },
  {
   "cell_type": "code",
   "execution_count": 5,
   "metadata": {
    "scrolled": true
   },
   "outputs": [
    {
     "name": "stdout",
     "output_type": "stream",
     "text": [
      "usage: genotype.py [-h] --inprefix INPREFIX --seqsdir SEQSDIR --outdir OUTDIR\n",
      "                   [--threshold THRESHOLD] [--full_length FULL_LENGTH]\n",
      "\n",
      "Given RSV G protein sequences & metadata downloaded from Genbank, fill in\n",
      "missing genotype data. This program is part of rsview (version 0.dev1) written\n",
      "by Jilliane Bruffey, Kate Dusenbury, and Katie Kistler.For documentation, see\n",
      "https://github.com/khdusenbury/RSView\n",
      "\n",
      "optional arguments:\n",
      "  -h, --help            show this help message and exit\n",
      "  --inprefix INPREFIX   Prefix pointing to downloaded sequences and metadata\n",
      "                        files. --inprefix name should be truncated where\n",
      "                        differences begin between files that will be combined\n",
      "                        into one dataframe. Example:\n",
      "                        './data/RSVG_gb_metadata'. (default: None)\n",
      "  --seqsdir SEQSDIR     Directory for outputting generated fasta and alignment\n",
      "                        files. (default: None)\n",
      "  --outdir OUTDIR       Directory for outputting cleaned, genotyped `.csv`.\n",
      "                        (default: None)\n",
      "  --threshold THRESHOLD\n",
      "                        Threshold for how many sites must match in order to\n",
      "                        call a genotype. (default: 150)\n",
      "  --full_length FULL_LENGTH\n",
      "                        Min length for a sequence to be considered full\n",
      "                        length. (default: 290)\n"
     ]
    }
   ],
   "source": [
    "! genotype.py --help"
   ]
  },
  {
   "cell_type": "code",
   "execution_count": 6,
   "metadata": {},
   "outputs": [
    {
     "name": "stdout",
     "output_type": "stream",
     "text": [
      "\n",
      "Executing genotype.py (0.dev1) in /Users/khdusenbury/CSE583/RSView/examples at Thu Dec 13 00:25:45 2018.\n",
      "\n",
      "Input files: ['./demodata/RSVG_gb_metadata_2201-2701.csv']\n",
      "\n",
      "Starting with 426 of 500 seqs genotyped.\n",
      "\n",
      "outputhat23=16\n",
      "treein = 0\n",
      "compacttree = 0\n",
      "stacksize: 8192 kb\n",
      "All-to-all alignment.\n",
      "tbfast-pair (aa) Version 7.407\n",
      "alg=L, model=BLOSUM62, 2.00, -0.10, +0.10, noshift, amax=0.0\n",
      "0 thread(s)\n",
      "\n",
      "outputhat23=16\n",
      "Loading 'hat3.seed' ... \n",
      "done.\n",
      "Writing hat3 for iterative refinement\n",
      "Gap Penalty = -1.53, +0.00, +0.00\n",
      "tbutree = 1, compacttree = 0\n",
      "Constructing a UPGMA tree ... \n",
      "   10 / 19\n",
      "done.\n",
      "\n",
      "Progressive alignment ... \n",
      "STEP    18 /18 \n",
      "done.\n",
      "tbfast (aa) Version 7.407\n",
      "alg=A, model=BLOSUM62, 1.53, -0.00, -0.00, noshift, amax=0.0\n",
      "1 thread(s)\n",
      "\n",
      "minimumweight = 0.000010\n",
      "autosubalignment = 0.000000\n",
      "nthread = 0\n",
      "randomseed = 0\n",
      "blosum 62 / kimura 200\n",
      "poffset = 0\n",
      "niter = 16\n",
      "sueff_global = 0.100000\n",
      "nadd = 16\n",
      "Loading 'hat3' ... done.\n",
      "\n",
      "   10 / 19\n",
      "Segment   1/  1    1- 322\n",
      "STEP 002-017-1  identical.   \n",
      "Converged.\n",
      "\n",
      "done\n",
      "dvtditr (aa) Version 7.407\n",
      "alg=A, model=BLOSUM62, 1.53, -0.00, -0.00, noshift, amax=0.0\n",
      "0 thread(s)\n",
      "\n",
      "\n",
      "Strategy:\n",
      " L-INS-i (Probably most accurate, very slow)\n",
      " Iterative refinement method (<16) with LOCAL pairwise alignment information\n",
      "\n",
      "If unsure which option to use, try 'mafft --auto input > output'.\n",
      "For more information, see 'mafft --help', 'mafft --man' and the mafft page.\n",
      "\n",
      "The default gap scoring scheme has been changed in version 7.110 (2013 Oct).\n",
      "It tends to insert more gaps into gap-rich regions than previous versions.\n",
      "To disable this change, add the --leavegappyregion option.\n",
      "\n",
      "nadd = 32\n",
      "nthread = 0\n",
      "nthreadpair = 0\n",
      "nthreadtb = 0\n",
      "ppenalty_ex = 0\n",
      "stacksize: 8192 kb\n",
      "Gap Penalty = -1.53, +0.00, +0.00\n",
      "\n",
      "\n",
      "\n",
      "Making a distance matrix ..\n",
      "\n",
      "There are 1 ambiguous characters.\n",
      "    1 / 51\n",
      "done.\n",
      "\n",
      "Constructing a UPGMA tree (efffree=0) ... \n",
      "   40 / 51\n",
      "done.\n",
      "\n",
      "Progressive alignment 1/2... \n",
      "STEP    50 / 50 \n",
      "done.\n",
      "\n",
      "Making a distance matrix from msa.. \n",
      "    0 / 51\n",
      "done.\n",
      "\n",
      "Constructing a UPGMA tree (efffree=1) ... \n",
      "   40 / 51\n",
      "done.\n",
      "\n",
      "Progressive alignment 2/2... \n",
      "STEP    50 / 50 \n",
      "done.\n",
      "\n",
      "disttbfast (aa) Version 7.407\n",
      "alg=A, model=BLOSUM62, 1.53, -0.00, -0.00, noshift, amax=0.0\n",
      "0 thread(s)\n",
      "\n",
      "\n",
      "To keep the alignment length, 13 letters were DELETED.\n",
      "To know the positions of deleted letters, rerun the same command with the --mapout option.\n",
      "\n",
      "Strategy:\n",
      " FFT-NS-2 (Fast but rough)\n",
      " Progressive method (guide trees were built 2 times.)\n",
      "\n",
      "If unsure which option to use, try 'mafft --auto input > output'.\n",
      "For more information, see 'mafft --help', 'mafft --man' and the mafft page.\n",
      "\n",
      "The default gap scoring scheme has been changed in version 7.110 (2013 Oct).\n",
      "It tends to insert more gaps into gap-rich regions than previous versions.\n",
      "To disable this change, add the --leavegappyregion option.\n",
      "\n",
      "OS = darwin\n",
      "The number of physical cores =  4\n",
      "nadd = 402\n",
      "ppenalty_ex = -10\n",
      "nthread = 4\n",
      "blosum 62 / kimura 200\n",
      "sueff_global = 0.100000\n",
      "norg = 51\n",
      "njobc = 52\n",
      "\n",
      "\n",
      "Making a distance matrix ..\n",
      "\n",
      "There are 22 ambiguous characters\n",
      "    1 / 51\n",
      "done.\n",
      "\n",
      "f\n",
      "\n",
      "Combining ..\n",
      "   done.                      \n",
      "\n",
      "   done.                      \n",
      "\n",
      "addsingle (aa) Version 7.407\n",
      "alg=A, model=BLOSUM62, 1.53, -0.00, +0.01, noshift, amax=0.0\n",
      "0 thread(s)\n",
      "\n",
      "\n",
      "To keep the alignment length, 223 letters were DELETED.\n",
      "To know the positions of deleted letters, rerun the same command with the --mapout option.\n",
      "\n",
      "Strategy:\n",
      " FFT-NS-fragment (Not tested.)\n",
      " ?\n",
      "\n",
      "If unsure which option to use, try 'mafft --auto input > output'.\n",
      "For more information, see 'mafft --help', 'mafft --man' and the mafft page.\n",
      "\n",
      "The default gap scoring scheme has been changed in version 7.110 (2013 Oct).\n",
      "It tends to insert more gaps into gap-rich regions than previous versions.\n",
      "To disable this change, add the --leavegappyregion option.\n",
      "\n",
      "\n",
      "0 genotypes mistyped and reset to 'NaN'\n",
      "Those mismathces were:\n",
      "\n",
      "33 genotypes added.\n",
      "459 seqs now genotyped.\n",
      "Finished at Thu Dec 13 00:25:46 2018. Took 0.023 minutes to run.\n"
     ]
    }
   ],
   "source": [
    "! genotype.py --inprefix './demodata/RSVG_gb_metadata' --seqsdir './demodata/seqs' --outdir './demodata/'\n"
   ]
  },
  {
   "cell_type": "code",
   "execution_count": 7,
   "metadata": {
    "scrolled": true
   },
   "outputs": [
    {
     "data": {
      "text/html": [
       "<div>\n",
       "<style scoped>\n",
       "    .dataframe tbody tr th:only-of-type {\n",
       "        vertical-align: middle;\n",
       "    }\n",
       "\n",
       "    .dataframe tbody tr th {\n",
       "        vertical-align: top;\n",
       "    }\n",
       "\n",
       "    .dataframe thead th {\n",
       "        text-align: right;\n",
       "    }\n",
       "</style>\n",
       "<table border=\"1\" class=\"dataframe\">\n",
       "  <thead>\n",
       "    <tr style=\"text-align: right;\">\n",
       "      <th></th>\n",
       "      <th>collection_date</th>\n",
       "      <th>country</th>\n",
       "      <th>subtype</th>\n",
       "      <th>genotype</th>\n",
       "      <th>G_seq</th>\n",
       "    </tr>\n",
       "  </thead>\n",
       "  <tbody>\n",
       "    <tr>\n",
       "      <th>490</th>\n",
       "      <td>Jan-2014</td>\n",
       "      <td>Turkey</td>\n",
       "      <td>A</td>\n",
       "      <td>ON1</td>\n",
       "      <td>LTTKPTGKPTINTTKTNIRTTLITSNTKGNPEHTSQEETLHSTTSE...</td>\n",
       "    </tr>\n",
       "    <tr>\n",
       "      <th>491</th>\n",
       "      <td>Jan-2014</td>\n",
       "      <td>Turkey</td>\n",
       "      <td>A</td>\n",
       "      <td>ON1</td>\n",
       "      <td>LTTKPTGKPTINTTKTNIRTTLITSNTKGNPEHTSQEETLHSTTSE...</td>\n",
       "    </tr>\n",
       "    <tr>\n",
       "      <th>492</th>\n",
       "      <td>Jan-2014</td>\n",
       "      <td>Turkey</td>\n",
       "      <td>A</td>\n",
       "      <td>ON1</td>\n",
       "      <td>LTTKPTGKPTINTTKTNIRTTLITSNTKGNPEHTSQEETLHSTTSE...</td>\n",
       "    </tr>\n",
       "    <tr>\n",
       "      <th>493</th>\n",
       "      <td>23-Feb-2015</td>\n",
       "      <td>Argentina</td>\n",
       "      <td>B</td>\n",
       "      <td>BA</td>\n",
       "      <td>MSKNKNQRTARTLEKTWDTLNHLIVISSCLYKLNLKSIAQIALSVL...</td>\n",
       "    </tr>\n",
       "    <tr>\n",
       "      <th>494</th>\n",
       "      <td>30-Apr-2015</td>\n",
       "      <td>Argentina</td>\n",
       "      <td>A</td>\n",
       "      <td>ON1</td>\n",
       "      <td>MSKTKDQRTAKTLERTWDTLNHLLFISSCLYKLNLKSIAQITLSIL...</td>\n",
       "    </tr>\n",
       "    <tr>\n",
       "      <th>495</th>\n",
       "      <td>07-Jun-2012</td>\n",
       "      <td>Croatia</td>\n",
       "      <td>B</td>\n",
       "      <td>BA9</td>\n",
       "      <td>NaN</td>\n",
       "    </tr>\n",
       "    <tr>\n",
       "      <th>496</th>\n",
       "      <td>06-Mar-2014</td>\n",
       "      <td>Croatia</td>\n",
       "      <td>B</td>\n",
       "      <td>BA9</td>\n",
       "      <td>NaN</td>\n",
       "    </tr>\n",
       "    <tr>\n",
       "      <th>497</th>\n",
       "      <td>04-Mar-2014</td>\n",
       "      <td>Croatia</td>\n",
       "      <td>B</td>\n",
       "      <td>BA9</td>\n",
       "      <td>NaN</td>\n",
       "    </tr>\n",
       "    <tr>\n",
       "      <th>498</th>\n",
       "      <td>04-Mar-2014</td>\n",
       "      <td>Croatia</td>\n",
       "      <td>B</td>\n",
       "      <td>BA9</td>\n",
       "      <td>NaN</td>\n",
       "    </tr>\n",
       "    <tr>\n",
       "      <th>499</th>\n",
       "      <td>01-Mar-2014</td>\n",
       "      <td>Croatia</td>\n",
       "      <td>B</td>\n",
       "      <td>BA9</td>\n",
       "      <td>NaN</td>\n",
       "    </tr>\n",
       "  </tbody>\n",
       "</table>\n",
       "</div>"
      ],
      "text/plain": [
       "    collection_date    country subtype genotype  \\\n",
       "490        Jan-2014     Turkey       A      ON1   \n",
       "491        Jan-2014     Turkey       A      ON1   \n",
       "492        Jan-2014     Turkey       A      ON1   \n",
       "493     23-Feb-2015  Argentina       B       BA   \n",
       "494     30-Apr-2015  Argentina       A      ON1   \n",
       "495     07-Jun-2012    Croatia       B      BA9   \n",
       "496     06-Mar-2014    Croatia       B      BA9   \n",
       "497     04-Mar-2014    Croatia       B      BA9   \n",
       "498     04-Mar-2014    Croatia       B      BA9   \n",
       "499     01-Mar-2014    Croatia       B      BA9   \n",
       "\n",
       "                                                 G_seq  \n",
       "490  LTTKPTGKPTINTTKTNIRTTLITSNTKGNPEHTSQEETLHSTTSE...  \n",
       "491  LTTKPTGKPTINTTKTNIRTTLITSNTKGNPEHTSQEETLHSTTSE...  \n",
       "492  LTTKPTGKPTINTTKTNIRTTLITSNTKGNPEHTSQEETLHSTTSE...  \n",
       "493  MSKNKNQRTARTLEKTWDTLNHLIVISSCLYKLNLKSIAQIALSVL...  \n",
       "494  MSKTKDQRTAKTLERTWDTLNHLLFISSCLYKLNLKSIAQITLSIL...  \n",
       "495                                                NaN  \n",
       "496                                                NaN  \n",
       "497                                                NaN  \n",
       "498                                                NaN  \n",
       "499                                                NaN  "
      ]
     },
     "execution_count": 7,
     "metadata": {},
     "output_type": "execute_result"
    }
   ],
   "source": [
    "demogenotyped = pd.read_csv('demodata/RSVG_all_genotyped.csv', index_col=0)\n",
    "\n",
    "demogenotyped[490:]"
   ]
  },
  {
   "cell_type": "markdown",
   "metadata": {},
   "source": [
    "As can be seen above, this genotyping scheme, assigned the BA and ON1 genotypes to those two sequences from Argentina. Despite not being very rigorous or scientifically validated, this program seems to work adequately for our purposes. \n",
    "\n",
    "It is important to note that due to possible inaccuracies in genotype calling and a rather limited number of sequences genotyped, it is difficult to draw many genotype-level conclusions about these GenBank sequences. \n",
    "\n",
    "Importantly, the simple fact that sequences tend to be deposited into GenBank in bursts when big sequencing experiments are carried out rather than regularly as a part of surveillance limits the conclusions we can draw from this data. While this project would benefit greatly from additional data, this project using the currently available GenBank data is a good starting point for looking at the global distribution of RSV sequences. Below, we go through how to visualize this data using our package, `rsview`."
   ]
  },
  {
   "cell_type": "markdown",
   "metadata": {},
   "source": [
    "# map_rsv.py"
   ]
  },
  {
   "cell_type": "markdown",
   "metadata": {},
   "source": [
    "map_rsv.py can be used to plot the global distribution of all available RSV sequences according to the collection location of each sequence. map_rsv.py looks in rsview/data/ for the output files of seq_download.py. If these files are not present, an error message is thrown notifying the user to run seq_download.py before map_rsv.py.\n",
    "\n",
    "map_rsv.py will aggregate all downloaded sequences by their collection date and location (at country resolution) and display these numbers on a global map. The user must specify whether map_rsv.py should display viral sequences grouped by genotype or subtype. Other, optional arguments, allow the user to specify a specific temporal range to display and whether or not genotypes should be further grouped into clades."
   ]
  },
  {
   "cell_type": "markdown",
   "metadata": {},
   "source": [
    "#### For help determining specifying arguments, use \"-h\""
   ]
  },
  {
   "cell_type": "code",
   "execution_count": 1,
   "metadata": {
    "scrolled": true
   },
   "outputs": [
    {
     "name": "stdout",
     "output_type": "stream",
     "text": [
      "usage: map_rsv.py [-h] [--genotype-level {collapse,all}] [--years YEARS]\n",
      "                  {subtype,genotype} datadir\n",
      "\n",
      "Plot global distribution of RSV\n",
      "\n",
      "positional arguments:\n",
      "  {subtype,genotype}    Specify whether the subtype or genotype of RSV\n",
      "                        sequences should be plotted\n",
      "  datadir               Specify the directory that contains seq_download.py\n",
      "                        output\n",
      "\n",
      "optional arguments:\n",
      "  -h, --help            show this help message and exit\n",
      "  --genotype-level {collapse,all}\n",
      "                        Specify whether to plot all genotypes of RSV or\n",
      "                        collapse them into major clades\n",
      "  --years YEARS         Specify a range of years to plot. Example: [1990,\n",
      "                        2018]. If 'all'is specified, all years for which there\n",
      "                        are data points will be plotted\n"
     ]
    }
   ],
   "source": [
    "! map_rsv.py -h"
   ]
  },
  {
   "cell_type": "markdown",
   "metadata": {},
   "source": [
    "#### To map available RSV sequences grouped by subtype (A vs. B) from the data in the directory `data`"
   ]
  },
  {
   "cell_type": "code",
   "execution_count": 2,
   "metadata": {
    "scrolled": true
   },
   "outputs": [],
   "source": [
    "! map_rsv.py subtype ../rsview/data"
   ]
  },
  {
   "cell_type": "markdown",
   "metadata": {},
   "source": [
    "#### To map available RSV sequences by genotype group. Note: this is equivalent to specifying the optional argument `--genotype-level collapse`"
   ]
  },
  {
   "cell_type": "code",
   "execution_count": 4,
   "metadata": {},
   "outputs": [],
   "source": [
    "! map_rsv.py genotype ../rsview/data"
   ]
  },
  {
   "cell_type": "markdown",
   "metadata": {},
   "source": [
    "#### To map available RSV sequences by genotype"
   ]
  },
  {
   "cell_type": "code",
   "execution_count": 5,
   "metadata": {},
   "outputs": [],
   "source": [
    "! map_rsv.py genotype ../rsview/data --genotype-level all "
   ]
  },
  {
   "cell_type": "markdown",
   "metadata": {},
   "source": [
    "#### To map available RSV sequences that were collected during a specific time range. Note: the default range is [1990,2018]\n"
   ]
  },
  {
   "cell_type": "code",
   "execution_count": 6,
   "metadata": {},
   "outputs": [
    {
     "name": "stdout",
     "output_type": "stream",
     "text": [
      "Traceback (most recent call last):\n",
      "  File \"/Users/jilliane/miniconda3/envs/rsview/bin/map_rsv.py\", line 4, in <module>\n",
      "    __import__('pkg_resources').run_script('rsview==0.dev1', 'map_rsv.py')\n",
      "  File \"/Users/jilliane/miniconda3/envs/rsview/lib/python3.6/site-packages/pkg_resources/__init__.py\", line 664, in run_script\n",
      "    self.require(requires)[0].run_script(script_name, ns)\n",
      "  File \"/Users/jilliane/miniconda3/envs/rsview/lib/python3.6/site-packages/pkg_resources/__init__.py\", line 1451, in run_script\n",
      "    exec(script_code, namespace, namespace)\n",
      "  File \"/Users/jilliane/miniconda3/envs/rsview/lib/python3.6/site-packages/rsview-0.dev1-py3.6.egg/EGG-INFO/scripts/map_rsv.py\", line 288, in <module>\n",
      "  File \"/Users/jilliane/miniconda3/envs/rsview/lib/python3.6/site-packages/rsview-0.dev1-py3.6.egg/EGG-INFO/scripts/map_rsv.py\", line 281, in main\n",
      "  File \"/Users/jilliane/miniconda3/envs/rsview/lib/python3.6/site-packages/rsview-0.dev1-py3.6.egg/EGG-INFO/scripts/map_rsv.py\", line 161, in map_rsv\n",
      "TypeError: must be str, not int\n"
     ]
    }
   ],
   "source": [
    "! map_rsv.py subtype ../rsview/data --years [1960,2000]"
   ]
  },
  {
   "cell_type": "markdown",
   "metadata": {},
   "source": [
    "#### To map available RSV sequences with no filter on the collection time\n"
   ]
  },
  {
   "cell_type": "code",
   "execution_count": 7,
   "metadata": {},
   "outputs": [],
   "source": [
    "! map_rsv.py genotype ../rsview/data --years all"
   ]
  },
  {
   "cell_type": "markdown",
   "metadata": {},
   "source": [
    "# plot_rsv.py"
   ]
  },
  {
   "cell_type": "markdown",
   "metadata": {},
   "source": [
    "plot_rsv.py can be used to generate graphs for the viewing and analysis of the dataset on child death rates from acute respiratory infection, which we are using as a proxy for RSV disease severity. "
   ]
  },
  {
   "cell_type": "markdown",
   "metadata": {},
   "source": [
    "#### For help determining which arguments to use to plot the appropriate health data, use \"-h\""
   ]
  },
  {
   "cell_type": "code",
   "execution_count": 1,
   "metadata": {},
   "outputs": [
    {
     "name": "stdout",
     "output_type": "stream",
     "text": [
      "usage: plot_rsv.py [-h] [--country COUNTRY]\n",
      "                   [--highlight_country HIGHLIGHT_COUNTRY]\n",
      "                   {all,country}\n",
      "                   {nnd,pnd,neo9,post9,ufive9,rneo9,rpost9,rufive9,fneo9,fpost9,fufive9}\n",
      "                   datadir\n",
      "\n",
      "Plot data on child death rates from acute respiratory infection\n",
      "\n",
      "positional arguments:\n",
      "  {all,country}         Specify whether to plot data for all countries or for a specific country\n",
      "  {nnd,pnd,neo9,post9,ufive9,rneo9,rpost9,rufive9,fneo9,fpost9,fufive9}\n",
      "                        Specify which category of data to plot:\n",
      "                         nnd: Total Neonatal Deaths\n",
      "                         pnd: Total Post-Neonatal Deaths\n",
      "                         neo9: Neonatal deaths due to Acute Respiratory Infection\n",
      "                         post9: Post-neonatal deaths due to Acute Respiratory Infection\n",
      "                         ufive9: Underfive deaths due to Acute Respiratory Infection\n",
      "                         rneo9: Neonatal death rate from Acute Respiratory Infection (per 1000 live births)\n",
      "                         rpost9: Post-neonatal death rate from Acute Respiratory Infection (per 1000 live births)\n",
      "                         rufive9: Underfive death rate from Acute Respiratory Infection (per 1000 live births)\n",
      "                         fneo9: Percent Neonatal deaths due to Acute Respiratory Infection\n",
      "                         fpost9: Percent Post-neonatal deaths due to Acute Respiratory Infection\n",
      "                         fufive9: Percent Underfive deaths due to Acute Respiratory Infection\n",
      "  datadir               Specify the directory that contains health data and seq_download.py output\n",
      "\n",
      "optional arguments:\n",
      "  -h, --help            show this help message and exit\n",
      "  --country COUNTRY     Specify the country for which to plot data\n",
      "  --highlight_country HIGHLIGHT_COUNTRY\n",
      "                        Specify the country for to highlight\n"
     ]
    }
   ],
   "source": [
    "! plot_rsv.py -h"
   ]
  },
  {
   "cell_type": "markdown",
   "metadata": {},
   "source": [
    "#### To plot health data for reach country, averaged from 2000-2016:"
   ]
  },
  {
   "cell_type": "code",
   "execution_count": 2,
   "metadata": {},
   "outputs": [],
   "source": [
    "! plot_rsv.py all rufive9 ../rsview/data"
   ]
  },
  {
   "cell_type": "markdown",
   "metadata": {},
   "source": [
    "#### Use the optional argument \"--highlight_country\" to emphasize the country of interest in a full plot"
   ]
  },
  {
   "cell_type": "code",
   "execution_count": 3,
   "metadata": {},
   "outputs": [],
   "source": [
    "! plot_rsv.py all rufive9 ../rsview/data --highlight_country='Kenya'"
   ]
  },
  {
   "cell_type": "markdown",
   "metadata": {},
   "source": [
    "#### To plot health data by year for a single country, use level='country' and the optional \"--country\" argument"
   ]
  },
  {
   "cell_type": "code",
   "execution_count": 4,
   "metadata": {},
   "outputs": [],
   "source": [
    "! plot_rsv.py country rufive9 ../rsview/data --country='Kenya'"
   ]
  },
  {
   "cell_type": "markdown",
   "metadata": {},
   "source": [
    "#### If you don't specify a country, it will plot global results over time"
   ]
  },
  {
   "cell_type": "code",
   "execution_count": 5,
   "metadata": {},
   "outputs": [],
   "source": [
    "! plot_rsv.py country rufive9 ../rsview/data"
   ]
  },
  {
   "cell_type": "markdown",
   "metadata": {},
   "source": [
    "   "
   ]
  },
  {
   "cell_type": "markdown",
   "metadata": {},
   "source": [
    "   "
   ]
  },
  {
   "cell_type": "markdown",
   "metadata": {},
   "source": [
    " \n",
    " # plot_correlation.py"
   ]
  },
  {
   "cell_type": "markdown",
   "metadata": {},
   "source": [
    "plot_correlation.py can be used to calculate the prevalence of different RSV subtypes in the RSV sequence dataset and plot that against the dataset on child death rates from acute respiratory infection. This can be used to check for correlation between subtype prevalence or switching between subtypes and the severity of the disease."
   ]
  },
  {
   "cell_type": "markdown",
   "metadata": {},
   "source": [
    "#### Use plot_correlation.py with level='all' to generate a scatterplot of a health metric vs the ratio of subtype A to subtype B in each country"
   ]
  },
  {
   "cell_type": "code",
   "execution_count": 6,
   "metadata": {},
   "outputs": [],
   "source": [
    "! plot_correlation.py all rufive9 ../rsview/data"
   ]
  },
  {
   "cell_type": "markdown",
   "metadata": {},
   "source": [
    "#### To break the data for each country into per-year subtype data (colored by year), use level='year'"
   ]
  },
  {
   "cell_type": "code",
   "execution_count": 7,
   "metadata": {},
   "outputs": [],
   "source": [
    "! plot_correlation.py year rufive9 ../rsview/data"
   ]
  },
  {
   "cell_type": "code",
   "execution_count": 3,
   "metadata": {},
   "outputs": [],
   "source": []
  },
  {
   "cell_type": "code",
   "execution_count": null,
   "metadata": {},
   "outputs": [],
   "source": []
  },
  {
   "cell_type": "code",
   "execution_count": null,
   "metadata": {},
   "outputs": [],
   "source": []
  }
 ],
 "metadata": {
  "kernelspec": {
   "display_name": "Python 3",
   "language": "python",
   "name": "python3"
  },
  "language_info": {
   "codemirror_mode": {
    "name": "ipython",
    "version": 3
   },
   "file_extension": ".py",
   "mimetype": "text/x-python",
   "name": "python",
   "nbconvert_exporter": "python",
   "pygments_lexer": "ipython3",
   "version": "3.6.7"
  }
 },
 "nbformat": 4,
 "nbformat_minor": 2
}
