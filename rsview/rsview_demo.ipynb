{
 "cells": [
  {
   "cell_type": "code",
   "execution_count": null,
   "metadata": {},
   "outputs": [],
   "source": []
  },
  {
   "cell_type": "code",
   "execution_count": null,
   "metadata": {},
   "outputs": [],
   "source": []
  },
  {
   "cell_type": "code",
   "execution_count": null,
   "metadata": {},
   "outputs": [],
   "source": []
  },
  {
   "cell_type": "code",
   "execution_count": null,
   "metadata": {},
   "outputs": [],
   "source": []
  },
  {
   "cell_type": "markdown",
   "metadata": {},
   "source": [
    "# plot_rsv.py"
   ]
  },
  {
   "cell_type": "markdown",
   "metadata": {},
   "source": [
    "plot_rsv.py can be used to generate graphs for the viewing and analysis of the dataset on child death rates from acute respiratory infection, which we are using as a proxy for RSV disease severity. "
   ]
  },
  {
   "cell_type": "markdown",
   "metadata": {},
   "source": [
    "#### For help determining which arguments to use to plot the appropriate health data, use \"-h\""
   ]
  },
  {
   "cell_type": "code",
   "execution_count": 17,
   "metadata": {},
   "outputs": [
    {
     "name": "stdout",
     "output_type": "stream",
     "text": [
      "usage: plot_rsv.py [-h] [--country COUNTRY]\r\n",
      "                   [--highlight_country HIGHLIGHT_COUNTRY]\r\n",
      "                   {all,country} { nnd , pnd , neo9 , post9 , ufive9 , rneo9 ,\r\n",
      "                   rpost9 , rufive9 ,fneo9,fpost9,fufive9}\r\n",
      "\r\n",
      "Plot data on child death rates from acute respiratory infection\r\n",
      "\r\n",
      "positional arguments:\r\n",
      "  {all,country}         Specify whether to plot data for all countries or for a specific country\r\n",
      "  { nnd , pnd , neo9 , post9 , ufive9 , rneo9 , rpost9 , rufive9 ,fneo9,fpost9,fufive9}\r\n",
      "                        Specify which category of data to plot:\r\n",
      "                          nnd : Total Neonatal Deaths\r\n",
      "                          pnd : Total Post-Neonatal Deaths\r\n",
      "                          neo9 : Neonatal deaths due to Acute Respiratory Infection\r\n",
      "                          post9 : Post-neonatal deaths due to Acute Respiratory Infection\r\n",
      "                          ufive9 : Underfive deaths due to Acute Respiratory Infection\r\n",
      "                          rneo9 : Neonatal death rate from Acute Respiratory Infection (per 1000 live births)\r\n",
      "                          rpost9 : Post-neonatal death rate from Acute Respiratory Infection (per 1000 live births)\r\n",
      "                          rufive9 : Underfive death rate from Acute Respiratory Infection (per 1000 live births)\r\n",
      "                         fneo9: Percent Neonatal deaths due to Acute Respiratory Infection\r\n",
      "                         fpost9: Percent Post-neonatal deaths due to Acute Respiratory Infection\r\n",
      "                         fufive9: Percent Underfive deaths due to Acute Respiratory Infection\r\n",
      "\r\n",
      "optional arguments:\r\n",
      "  -h, --help            show this help message and exit\r\n",
      "  --country COUNTRY     Specify the country for which to plot data\r\n",
      "  --highlight_country HIGHLIGHT_COUNTRY\r\n",
      "                        Specify the country for to highlight\r\n"
     ]
    }
   ],
   "source": [
    "! python plot_rsv.py -h"
   ]
  },
  {
   "cell_type": "markdown",
   "metadata": {},
   "source": [
    "#### To plot health data for reach country, averaged from 2000-2016:"
   ]
  },
  {
   "cell_type": "code",
   "execution_count": 10,
   "metadata": {},
   "outputs": [],
   "source": [
    "! python plot_rsv.py all fufive9"
   ]
  },
  {
   "cell_type": "markdown",
   "metadata": {},
   "source": [
    "#### Use the optional argument \"--highlight_country\" to emphasize the country of interest in a full plot"
   ]
  },
  {
   "cell_type": "code",
   "execution_count": 11,
   "metadata": {},
   "outputs": [],
   "source": [
    "! python plot_rsv.py all fufive9 --highlight_country='Kenya'"
   ]
  },
  {
   "cell_type": "markdown",
   "metadata": {},
   "source": [
    "#### To plot health data by year for a single country, use level='country' and the optional \"--country\" argument"
   ]
  },
  {
   "cell_type": "code",
   "execution_count": 12,
   "metadata": {},
   "outputs": [],
   "source": [
    "! python plot_rsv.py country fufive9 --country='Kenya'"
   ]
  },
  {
   "cell_type": "markdown",
   "metadata": {},
   "source": [
    "#### If you don't specify a country, it will plot global results over time"
   ]
  },
  {
   "cell_type": "code",
   "execution_count": 13,
   "metadata": {},
   "outputs": [],
   "source": [
    "! python plot_rsv.py country fufive9"
   ]
  },
  {
   "cell_type": "markdown",
   "metadata": {},
   "source": [
    "   "
   ]
  },
  {
   "cell_type": "markdown",
   "metadata": {},
   "source": [
    "   "
   ]
  },
  {
   "cell_type": "markdown",
   "metadata": {},
   "source": [
    " \n",
    " # plot_correlation.py"
   ]
  },
  {
   "cell_type": "markdown",
   "metadata": {},
   "source": [
    "plot_correlation.py can be used to calculate the prevalence of different RSV subtypes in the RSV sequence dataset and plot that against the dataset on child death rates from acute respiratory infection. This can be used to check for correlation between subtype prevalence or switching between subtypes and the severity of the disease."
   ]
  },
  {
   "cell_type": "markdown",
   "metadata": {},
   "source": [
    "#### Use plot_correlation.py with level='all' to generate a scatterplot of a health metric vs the ratio of subtype A to subtype B in each country"
   ]
  },
  {
   "cell_type": "code",
   "execution_count": 14,
   "metadata": {},
   "outputs": [],
   "source": [
    "! python plot_correlation.py all fufive9"
   ]
  },
  {
   "cell_type": "markdown",
   "metadata": {},
   "source": [
    "#### To break the data for each country into per-year subtype data (colored by year), use level='year'"
   ]
  },
  {
   "cell_type": "code",
   "execution_count": 15,
   "metadata": {},
   "outputs": [],
   "source": [
    "! python plot_correlation.py year fufive9"
   ]
  },
  {
   "cell_type": "code",
   "execution_count": null,
   "metadata": {},
   "outputs": [],
   "source": []
  }
 ],
 "metadata": {
  "kernelspec": {
   "display_name": "Python 3",
   "language": "python",
   "name": "python3"
  },
  "language_info": {
   "codemirror_mode": {
    "name": "ipython",
    "version": 3
   },
   "file_extension": ".py",
   "mimetype": "text/x-python",
   "name": "python",
   "nbconvert_exporter": "python",
   "pygments_lexer": "ipython3",
   "version": "3.6.6"
  }
 },
 "nbformat": 4,
 "nbformat_minor": 2
}
