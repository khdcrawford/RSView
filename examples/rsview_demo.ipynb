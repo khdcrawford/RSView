{
 "cells": [
  {
   "cell_type": "markdown",
   "metadata": {},
   "source": [
    "# map_rsv.py"
   ]
  },
  {
   "cell_type": "markdown",
   "metadata": {},
   "source": [
    "map_rsv.py can be used to plot the global distribution of all available RSV sequences according to the collection location of each sequence. map_rsv.py looks in rsview/data/ for the output files of seq_download.py. If these files are not present, an error message is thrown notifying the user to run seq_download.py before map_rsv.py.\n",
    "\n",
    "map_rsv.py will aggregate all downloaded sequences by their collection date and location (at country resolution) and display these numbers on a global map. The user must specify whether map_rsv.py should display viral sequences grouped by genotype or subtype. Other, optional arguments, allow the user to specify a specific temporal range to display and whether or not genotypes should be further grouped into clades."
   ]
  },
  {
   "cell_type": "markdown",
   "metadata": {},
   "source": [
    "#### For help determining specifying arguments, use \"-h\""
   ]
  },
  {
   "cell_type": "code",
   "execution_count": 1,
   "metadata": {
    "scrolled": true
   },
   "outputs": [
    {
     "name": "stdout",
     "output_type": "stream",
     "text": [
      "usage: map_rsv.py [-h] [--genotype-level {collapse,all}] [--years YEARS]\r\n",
      "                  {subtype,genotype} datadir\r\n",
      "\r\n",
      "Plot global distribution of RSV\r\n",
      "\r\n",
      "positional arguments:\r\n",
      "  {subtype,genotype}    Specify whether the subtype or genotype of RSV\r\n",
      "                        sequences should be plotted\r\n",
      "  datadir               Specify the directory that contains seq_download.py\r\n",
      "                        output\r\n",
      "\r\n",
      "optional arguments:\r\n",
      "  -h, --help            show this help message and exit\r\n",
      "  --genotype-level {collapse,all}\r\n",
      "                        Specify whether to plot all genotypes of RSV or\r\n",
      "                        collapse them into major clades\r\n",
      "  --years YEARS         Specify a range of years to plot. Example: [1990,\r\n",
      "                        2018]. If 'all'is specified, all years for which there\r\n",
      "                        are data points will be plotted\r\n"
     ]
    }
   ],
   "source": [
    "! map_rsv.py -h"
   ]
  },
  {
   "cell_type": "markdown",
   "metadata": {},
   "source": [
    "#### To map available RSV sequences grouped by subtype (A vs. B) from the data in the directory `data`"
   ]
  },
  {
   "cell_type": "code",
   "execution_count": 2,
   "metadata": {
    "scrolled": true
   },
   "outputs": [],
   "source": [
    "! map_rsv.py subtype ../rsview/data"
   ]
  },
  {
   "cell_type": "markdown",
   "metadata": {},
   "source": [
    "#### To map available RSV sequences by genotype group. Note: this is equivalent to specifying the optional argument `--genotype-level collapse`"
   ]
  },
  {
   "cell_type": "code",
   "execution_count": 4,
   "metadata": {},
   "outputs": [],
   "source": [
    "! map_rsv.py genotype ../rsview/data"
   ]
  },
  {
   "cell_type": "markdown",
   "metadata": {},
   "source": [
    "#### To map available RSV sequences by genotype"
   ]
  },
  {
   "cell_type": "code",
   "execution_count": 5,
   "metadata": {},
   "outputs": [],
   "source": [
    "! map_rsv.py genotype ../rsview/data --genotype-level all "
   ]
  },
  {
   "cell_type": "markdown",
   "metadata": {},
   "source": [
    "#### To map available RSV sequences that were collected during a specific time range. Note: the default range is [1990,2018]\n"
   ]
  },
  {
   "cell_type": "code",
   "execution_count": 6,
   "metadata": {},
   "outputs": [
    {
     "name": "stdout",
     "output_type": "stream",
     "text": [
      "Traceback (most recent call last):\r\n",
      "  File \"/Users/jilliane/miniconda3/envs/rsview/bin/map_rsv.py\", line 4, in <module>\r\n",
      "    __import__('pkg_resources').run_script('rsview==0.dev1', 'map_rsv.py')\r\n",
      "  File \"/Users/jilliane/miniconda3/envs/rsview/lib/python3.6/site-packages/pkg_resources/__init__.py\", line 664, in run_script\r\n",
      "    self.require(requires)[0].run_script(script_name, ns)\r\n",
      "  File \"/Users/jilliane/miniconda3/envs/rsview/lib/python3.6/site-packages/pkg_resources/__init__.py\", line 1451, in run_script\r\n",
      "    exec(script_code, namespace, namespace)\r\n",
      "  File \"/Users/jilliane/miniconda3/envs/rsview/lib/python3.6/site-packages/rsview-0.dev1-py3.6.egg/EGG-INFO/scripts/map_rsv.py\", line 288, in <module>\r\n",
      "  File \"/Users/jilliane/miniconda3/envs/rsview/lib/python3.6/site-packages/rsview-0.dev1-py3.6.egg/EGG-INFO/scripts/map_rsv.py\", line 281, in main\r\n",
      "  File \"/Users/jilliane/miniconda3/envs/rsview/lib/python3.6/site-packages/rsview-0.dev1-py3.6.egg/EGG-INFO/scripts/map_rsv.py\", line 161, in map_rsv\r\n",
      "TypeError: must be str, not int\r\n"
     ]
    }
   ],
   "source": [
    "! map_rsv.py subtype ../rsview/data --years [1960,2000]"
   ]
  },
  {
   "cell_type": "markdown",
   "metadata": {},
   "source": [
    "#### To map available RSV sequences with no filter on the collection time\n"
   ]
  },
  {
   "cell_type": "code",
   "execution_count": 7,
   "metadata": {},
   "outputs": [],
   "source": [
    "! map_rsv.py genotype ../rsview/data --years all"
   ]
  },
  {
   "cell_type": "markdown",
   "metadata": {},
   "source": [
    "# plot_rsv.py"
   ]
  },
  {
   "cell_type": "markdown",
   "metadata": {},
   "source": [
    "plot_rsv.py can be used to generate graphs for the viewing and analysis of the dataset on child death rates from acute respiratory infection, which we are using as a proxy for RSV disease severity. "
   ]
  },
  {
   "cell_type": "markdown",
   "metadata": {},
   "source": [
    "#### For help determining which arguments to use to plot the appropriate health data, use \"-h\""
   ]
  },
  {
   "cell_type": "code",
   "execution_count": 6,
   "metadata": {},
   "outputs": [
    {
     "name": "stdout",
     "output_type": "stream",
     "text": [
      "usage: plot_rsv.py [-h] [--country COUNTRY]\r\n",
      "                   [--highlight_country HIGHLIGHT_COUNTRY]\r\n",
      "                   {all,country}\r\n",
      "                   {nnd,pnd,neo9,post9,ufive9,rneo9,rpost9,rufive9,fneo9,fpost9,fufive9}\r\n",
      "                   datadir\r\n",
      "\r\n",
      "Plot data on child death rates from acute respiratory infection\r\n",
      "\r\n",
      "positional arguments:\r\n",
      "  {all,country}         Specify whether to plot data for all countries or for a specific country\r\n",
      "  {nnd,pnd,neo9,post9,ufive9,rneo9,rpost9,rufive9,fneo9,fpost9,fufive9}\r\n",
      "                        Specify which category of data to plot:\r\n",
      "                         nnd: Total Neonatal Deaths\r\n",
      "                         pnd: Total Post-Neonatal Deaths\r\n",
      "                         neo9: Neonatal deaths due to Acute Respiratory Infection\r\n",
      "                         post9: Post-neonatal deaths due to Acute Respiratory Infection\r\n",
      "                         ufive9: Underfive deaths due to Acute Respiratory Infection\r\n",
      "                         rneo9: Neonatal death rate from Acute Respiratory Infection (per 1000 live births)\r\n",
      "                         rpost9: Post-neonatal death rate from Acute Respiratory Infection (per 1000 live births)\r\n",
      "                         rufive9: Underfive death rate from Acute Respiratory Infection (per 1000 live births)\r\n",
      "                         fneo9: Percent Neonatal deaths due to Acute Respiratory Infection\r\n",
      "                         fpost9: Percent Post-neonatal deaths due to Acute Respiratory Infection\r\n",
      "                         fufive9: Percent Underfive deaths due to Acute Respiratory Infection\r\n",
      "  datadir               Specify the directory that contains health data and seq_download.py output\r\n",
      "\r\n",
      "optional arguments:\r\n",
      "  -h, --help            show this help message and exit\r\n",
      "  --country COUNTRY     Specify the country for which to plot data\r\n",
      "  --highlight_country HIGHLIGHT_COUNTRY\r\n",
      "                        Specify the country for to highlight\r\n"
     ]
    }
   ],
   "source": [
    "! plot_rsv.py -h"
   ]
  },
  {
   "cell_type": "markdown",
   "metadata": {},
   "source": [
    "#### To plot health data for reach country, averaged from 2000-2016:"
   ]
  },
  {
   "cell_type": "code",
   "execution_count": 9,
   "metadata": {},
   "outputs": [],
   "source": [
    "! plot_rsv.py all rufive9 ../rsview/data"
   ]
  },
  {
   "cell_type": "markdown",
   "metadata": {},
   "source": [
    "#### Use the optional argument \"--highlight_country\" to emphasize the country of interest in a full plot"
   ]
  },
  {
   "cell_type": "code",
   "execution_count": 11,
   "metadata": {},
   "outputs": [],
   "source": [
    "! plot_rsv.py all rufive9 ../rsview/data --highlight_country='Kenya'"
   ]
  },
  {
   "cell_type": "markdown",
   "metadata": {},
   "source": [
    "#### To plot health data by year for a single country, use level='country' and the optional \"--country\" argument"
   ]
  },
  {
   "cell_type": "code",
   "execution_count": 10,
   "metadata": {},
   "outputs": [],
   "source": [
    "! plot_rsv.py country rufive9 ../rsview/data --country='Kenya'"
   ]
  },
  {
   "cell_type": "markdown",
   "metadata": {},
   "source": [
    "#### If you don't specify a country, it will plot global results over time"
   ]
  },
  {
   "cell_type": "code",
   "execution_count": 12,
   "metadata": {},
   "outputs": [],
   "source": [
    "! plot_rsv.py country rufive9 ../rsview/data"
   ]
  },
  {
   "cell_type": "markdown",
   "metadata": {},
   "source": [
    "   "
   ]
  },
  {
   "cell_type": "markdown",
   "metadata": {},
   "source": [
    "   "
   ]
  },
  {
   "cell_type": "markdown",
   "metadata": {},
   "source": [
    " \n",
    " # plot_correlation.py"
   ]
  },
  {
   "cell_type": "markdown",
   "metadata": {},
   "source": [
    "plot_correlation.py can be used to calculate the prevalence of different RSV subtypes in the RSV sequence dataset and plot that against the dataset on child death rates from acute respiratory infection. This can be used to check for correlation between subtype prevalence or switching between subtypes and the severity of the disease."
   ]
  },
  {
   "cell_type": "markdown",
   "metadata": {},
   "source": [
    "#### Use plot_correlation.py with level='all' to generate a scatterplot of a health metric vs the ratio of subtype A to subtype B in each country"
   ]
  },
  {
   "cell_type": "code",
   "execution_count": 13,
   "metadata": {},
   "outputs": [],
   "source": [
    "! plot_correlation.py all rufive9 ../rsview/data"
   ]
  },
  {
   "cell_type": "markdown",
   "metadata": {},
   "source": [
    "#### To break the data for each country into per-year subtype data (colored by year), use level='year'"
   ]
  },
  {
   "cell_type": "code",
   "execution_count": 14,
   "metadata": {},
   "outputs": [],
   "source": [
    "! plot_correlation.py year rufive9 ../rsview/data"
   ]
  },
  {
   "cell_type": "code",
   "execution_count": 3,
   "metadata": {},
   "outputs": [],
   "source": []
  },
  {
   "cell_type": "code",
   "execution_count": null,
   "metadata": {},
   "outputs": [],
   "source": []
  },
  {
   "cell_type": "code",
   "execution_count": null,
   "metadata": {},
   "outputs": [],
   "source": []
  }
 ],
 "metadata": {
  "kernelspec": {
   "display_name": "Python 3",
   "language": "python",
   "name": "python3"
  },
  "language_info": {
   "codemirror_mode": {
    "name": "ipython",
    "version": 3
   },
   "file_extension": ".py",
   "mimetype": "text/x-python",
   "name": "python",
   "nbconvert_exporter": "python",
   "pygments_lexer": "ipython3",
   "version": "3.6.6"
  }
 },
 "nbformat": 4,
 "nbformat_minor": 2
}
