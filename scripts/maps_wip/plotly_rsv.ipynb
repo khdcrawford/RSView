{
 "cells": [
  {
   "cell_type": "code",
   "execution_count": 1,
   "metadata": {
    "collapsed": true
   },
   "outputs": [],
   "source": [
    "import pandas as pd\n",
    "import numpy as np\n",
    "import plotly.plotly as py\n",
    "import plotly.graph_objs as go"
   ]
  },
  {
   "cell_type": "code",
   "execution_count": 57,
   "metadata": {
    "collapsed": true
   },
   "outputs": [],
   "source": [
    "CMAP= {'A':'royalblue','B':'salmon'}\n",
    "SUBTYPE_LIST=['A','B']"
   ]
  },
  {
   "cell_type": "code",
   "execution_count": 90,
   "metadata": {},
   "outputs": [],
   "source": [
    "rsv_df_1 = pd.read_csv('../../data/RSVG_gb_metadata.csv', usecols=['collection_date', 'country','subtype'],\n",
    "                     parse_dates=['collection_date'])\n",
    "\n",
    "rsv_df_2 = pd.read_csv('../../data/RSVG_gb_metadata_5000-10000.csv', usecols=['collection_date', 'country','subtype'],\n",
    "                     parse_dates=['collection_date'])\n",
    "\n",
    "rsv_df = rsv_df_1.append(rsv_df_2, ignore_index=True)\n",
    "\n",
    "rsv_df['year'] = rsv_df['collection_date'].apply(lambda x: x.year)\n",
    "rsv_df['country'] = np.where(rsv_df['country'].str.contains('USA'),'United States',rsv_df['country']) #Change US states to USA\n",
    "\n",
    "#use lat and long so datapoints can be jittered to show multiple subtypes\n",
    "#lat and long data from https://worldmap.harvard.edu/data/geonode:country_centroids_az8\n",
    "\n",
    "lat_lon = pd.read_csv('country_centroids_az8.csv', \\\n",
    "                      usecols=['name','brk_a3','Longitude','Latitude']\\\n",
    "                     ).rename(columns={'name':'country', 'brk_a3':'country_code'})\n",
    "\n",
    "#count number of rows(seqs) from each country that are each subtype\n",
    "df_count_time = pd.DataFrame({'count' : rsv_df.groupby(['country', 'subtype', 'year']).size()}).reset_index()\n",
    "\n",
    "#compile country-specific subtype count data with lat and long for plotting\n",
    "df_countries_time = df_count_time.merge(lat_lon, how='left', left_on='country', right_on='country')"
   ]
  },
  {
   "cell_type": "code",
   "execution_count": 91,
   "metadata": {},
   "outputs": [],
   "source": [
    "YEAR_RANGE = [year for year in range(int(df_countries_time.year.min()),int(df_countries_time.year.max()))]"
   ]
  },
  {
   "cell_type": "code",
   "execution_count": 92,
   "metadata": {},
   "outputs": [],
   "source": [
    "#Jitter points for countries that have multiple subtypes, so markers on map don't overlap\n",
    "JITTER_DICT= {'A':1.0, 'B':-1.0}\n",
    "\n",
    "country_group = df_countries_time.groupby('country').size()\n",
    "\n",
    "\n",
    "#With data separated by year\n",
    "df_countries_time['adj_lon'] = np.where(country_group[df_countries_time['country']]>1, \n",
    "                                   (df_countries_time['Longitude']+df_countries_time.subtype.map(lambda x: JITTER_DICT[x])\n",
    "                                   ), df_countries_time['Longitude'])\n",
    "\n",
    "df_countries_time['adj_lat'] = np.where(country_group[df_countries_time['country']]>1, \n",
    "                                   (df_countries_time['Latitude']+df_countries_time.subtype.map(lambda x: JITTER_DICT[x])\n",
    "                                   ), df_countries_time['Latitude'])"
   ]
  },
  {
   "cell_type": "code",
   "execution_count": 93,
   "metadata": {},
   "outputs": [
    {
     "name": "stderr",
     "output_type": "stream",
     "text": [
      "/anaconda2/envs/rsview/lib/python3.6/site-packages/IPython/core/display.py:689: UserWarning:\n",
      "\n",
      "Consider using IPython.display.IFrame instead\n",
      "\n"
     ]
    },
    {
     "data": {
      "text/html": [
       "<iframe id=\"igraph\" scrolling=\"no\" style=\"border:none;\" seamless=\"seamless\" src=\"https://plot.ly/~kistlerk/164.embed\" height=\"525px\" width=\"100%\"></iframe>"
      ],
      "text/plain": [
       "<plotly.tools.PlotlyDisplay object>"
      ]
     },
     "execution_count": 93,
     "metadata": {},
     "output_type": "execute_result"
    }
   ],
   "source": [
    "scale_markers = 5\n",
    "map_list = []\n",
    "\n",
    "\n",
    "for i in range(len(df_countries_time)):\n",
    "\n",
    "    map_country = dict(\n",
    "        type = 'scattergeo',\n",
    "#         locationmode = 'country names',\n",
    "#         locations = [df_countries.loc[i,'country']],\n",
    "        lat = [df_countries_time.loc[i,'adj_lat']],\n",
    "        lon = [df_countries_time.loc[i,'adj_lon']],\n",
    "        marker = dict(\n",
    "            size = np.min([df_countries_time.loc[i,'count']*scale_markers, 60]), #Threshold max size of marker\n",
    "            color = CMAP[df_countries_time.loc[i,'subtype']],\n",
    "            line = dict(width=0.5, color='rgb(40,40,40)'),\n",
    "            opacity=0.5,\n",
    "            sizemode = 'diameter'),\n",
    "        hovertext = (df_countries_time.loc[i,'country']+', subtype '+df_countries_time.loc[i,'subtype']+\n",
    "                     ' : '+str(df_countries_time.loc[i,'count'])+' sequences'),\n",
    "        name = df_countries_time.loc[i,'country']+' '+df_countries_time.loc[i,'subtype'],\n",
    "        legendgroup= df_countries_time.loc[i,'subtype'],\n",
    "        showlegend=False,\n",
    "        hoverinfo = 'text'\n",
    "    )\n",
    "    map_list.append(map_country)    \n",
    "\n",
    "#Work around for showing legend\n",
    "for subtype in SUBTYPE_LIST:\n",
    "    subtype_legend = dict(\n",
    "            type = 'scattergeo',\n",
    "            lat = [180.0],\n",
    "            lon= [180.0],\n",
    "            marker = dict(\n",
    "                size = scale_markers*10,\n",
    "                color = CMAP[subtype],\n",
    "                opacity=0.5,\n",
    "                sizemode = 'diameter'),\n",
    "            legendgroup = subtype,\n",
    "            name = 'Subtype ' + subtype,\n",
    "            showlegend=True,\n",
    "            hovertext=None,\n",
    "        )\n",
    "    map_list.append(subtype_legend) \n",
    "    \n",
    "steps = []\n",
    "for year in YEAR_RANGE:\n",
    "    step = dict(\n",
    "    method = 'restyle', \n",
    "    label = year,\n",
    "    args = ['visible', [False] * (len(df_countries_time)+len(SUBTYPE_LIST))])\n",
    "    for i in range(len(df_countries_time)):\n",
    "        if df_countries_time.loc[i,'year']==year:\n",
    "            step['args'][1][i] = True # Toggle i'th year to \"visible\"\n",
    "    for subtype in SUBTYPE_LIST:\n",
    "        step['args'][1][(len(df_countries_time)+SUBTYPE_LIST.index(subtype))] = True\n",
    "    steps.append(step)   \n",
    "            \n",
    "layout = dict(\n",
    "        title = 'Global distribution of RSV',\n",
    "#         showlegend = True,\n",
    "        sliders = [dict(\n",
    "            steps = steps)],\n",
    "            geo = dict(\n",
    "            scope='world',\n",
    "            showland = True,\n",
    "            landcolor = 'rgb(217, 217, 217)',\n",
    "            countrywidth=1,\n",
    "        ),\n",
    "    )\n",
    "\n",
    "fig = dict(data=map_list, layout=layout)\n",
    "py.iplot(fig)\n"
   ]
  }
 ],
 "metadata": {
  "kernelspec": {
   "display_name": "Python 3",
   "language": "python",
   "name": "python3"
  },
  "language_info": {
   "codemirror_mode": {
    "name": "ipython",
    "version": 3
   },
   "file_extension": ".py",
   "mimetype": "text/x-python",
   "name": "python",
   "nbconvert_exporter": "python",
   "pygments_lexer": "ipython3",
   "version": "3.6.6"
  }
 },
 "nbformat": 4,
 "nbformat_minor": 2
}
