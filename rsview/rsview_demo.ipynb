{
 "cells": [
  {
   "cell_type": "code",
   "execution_count": null,
   "metadata": {},
   "outputs": [],
   "source": [
    "# Plot_rsv"
   ]
  },
  {
   "cell_type": "code",
   "execution_count": 1,
   "metadata": {},
   "outputs": [
    {
     "name": "stdout",
     "output_type": "stream",
     "text": [
      "Traceback (most recent call last):\r\n",
      "  File \"plot_rsv.py\", line 9, in <module>\r\n",
      "    from parsearguments import plotParser\r\n",
      "  File \"/Users/jilliane/cse/RSView/rsview/parsearguments.py\", line 6, in <module>\r\n",
      "    import rsview\r\n",
      "ModuleNotFoundError: No module named 'rsview'\r\n"
     ]
    }
   ],
   "source": [
    "# -h prints information on choices for health data to include\n",
    "\n",
    "! python plot_rsv.py -h"
   ]
  },
  {
   "cell_type": "code",
   "execution_count": null,
   "metadata": {},
   "outputs": [],
   "source": [
    "# plot health data for each country, averaged from 2000-2016\n",
    "\n",
    "! python plot_rsv.py 'all' ' rufive9 ' "
   ]
  },
  {
   "cell_type": "code",
   "execution_count": null,
   "metadata": {},
   "outputs": [],
   "source": [
    "# optional argument \"--highlight_country\" to emphasize country of interest in full plot\n",
    "\n",
    "! python plot_rsv.py 'all' ' rufive9 ' --highlight_country='Kenya'"
   ]
  },
  {
   "cell_type": "code",
   "execution_count": null,
   "metadata": {},
   "outputs": [],
   "source": [
    "# plot health data by year for a single country using level='country' and optional \"--country\" argument\n",
    "\n",
    "! python plot_rsv.py 'country' ' rufive9 ' --country='Kenya'"
   ]
  },
  {
   "cell_type": "code",
   "execution_count": null,
   "metadata": {},
   "outputs": [],
   "source": [
    "# if you don't specify a country, it will show global results over time\n",
    "\n",
    "! python plot_rsv.py 'country' ' rufive9 '"
   ]
  },
  {
   "cell_type": "code",
   "execution_count": null,
   "metadata": {},
   "outputs": [],
   "source": []
  },
  {
   "cell_type": "code",
   "execution_count": null,
   "metadata": {},
   "outputs": [],
   "source": []
  },
  {
   "cell_type": "code",
   "execution_count": null,
   "metadata": {},
   "outputs": [],
   "source": [
    "# generate scatterplot of health metric vs ratio of subtype A to subtype B in each country\n",
    "\n",
    "! python plot_correlation.py 'all' ' rufive9 '"
   ]
  },
  {
   "cell_type": "code",
   "execution_count": null,
   "metadata": {},
   "outputs": [],
   "source": [
    "# break the data for each country into per-year subtype data\n",
    "\n",
    "! python plot_correlation.py 'year' ' rufive9 '"
   ]
  }
 ],
 "metadata": {
  "kernelspec": {
   "display_name": "Python 3",
   "language": "python",
   "name": "python3"
  },
  "language_info": {
   "codemirror_mode": {
    "name": "ipython",
    "version": 3
   },
   "file_extension": ".py",
   "mimetype": "text/x-python",
   "name": "python",
   "nbconvert_exporter": "python",
   "pygments_lexer": "ipython3",
   "version": "3.6.6"
  }
 },
 "nbformat": 4,
 "nbformat_minor": 2
}
