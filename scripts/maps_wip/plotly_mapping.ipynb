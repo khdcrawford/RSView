{
 "cells": [
  {
   "cell_type": "code",
   "execution_count": 132,
   "metadata": {
    "collapsed": true
   },
   "outputs": [],
   "source": [
    "import pandas as pd\n",
    "import numpy as np\n",
    "import plotly.plotly as py\n",
    "import plotly.graph_objs as go"
   ]
  },
  {
   "cell_type": "code",
   "execution_count": 181,
   "metadata": {},
   "outputs": [],
   "source": [
    "#Make toy dataframe to try mapping\n",
    "\n",
    "#test_df ~= result of subset of columns in df made from genbank seqs\n",
    "#each row is a sequence\n",
    "country = ['United States', 'Chile', 'Spain', 'Japan', 'United States', 'Spain', 'Spain', 'Spain', 'Spain', 'Spain']\n",
    "# country_code = ['USA', 'CHL', 'ESP', 'JPN', 'USA', 'ESP', 'ESP', 'ESP', 'ESP']\n",
    "subtype= ['A','A','A','B','B','A', 'A', 'A', 'B', 'A']\n",
    "year = [2010,2011,2010,2010,2010,2010,2010,2011,2011, 2012]\n",
    "\n",
    "test_df = pd.DataFrame({'country':country, 'subtype': subtype, 'year':year})\n",
    "\n",
    "#use lat and long so datapoints can be jittered to show multiple subtypes\n",
    "#lat and long data from https://worldmap.harvard.edu/data/geonode:country_centroids_az8\n",
    "\n",
    "lat_lon = pd.read_csv('country_centroids_az8.csv', \\\n",
    "                      usecols=['name','brk_a3','Longitude','Latitude']\\\n",
    "                     ).rename(columns={'name':'country', 'brk_a3':'country_code'})\n",
    "\n",
    "#count number of rows(seqs) from each country that are each subtype\n",
    "df_count = pd.DataFrame({'count' : test_df.groupby(['country', 'subtype']).size()}).reset_index()\n",
    "df_count_time = pd.DataFrame({'count' : test_df.groupby(['country', 'subtype', 'year']).size()}).reset_index()\n",
    "\n",
    "#compile country-specific subtype count data with lat and long for plotting\n",
    "df_countries = df_count.merge(lat_lon, how='left', left_on='country', right_on='country')\n",
    "df_countries_time = df_count_time.merge(lat_lon, how='left', left_on='country', right_on='country')"
   ]
  },
  {
   "cell_type": "code",
   "execution_count": 182,
   "metadata": {},
   "outputs": [],
   "source": [
    "#Jitter points for countries that have multiple subtypes, so markers on map don't overlap\n",
    "jitter_dict= {'A':1.0, 'B':-1.0}\n",
    "\n",
    "test_group = df_countries.groupby('country').size()\n",
    "test_group_time = df_countries_time.groupby('country').size()\n",
    "\n",
    "#Without time\n",
    "df_countries['adj_lon'] = np.where(test_group[df_countries['country']]>1, \n",
    "                                   (df_countries['Longitude']+df_countries.subtype.map(lambda x: jitter_dict[x])\n",
    "                                   ), df_countries['Longitude'])\n",
    "\n",
    "df_countries['adj_lat'] = np.where(test_group[df_countries['country']]>1, \n",
    "                                   (df_countries['Latitude']+df_countries.subtype.map(lambda x: jitter_dict[x])\n",
    "                                   ), df_countries['Latitude'])\n",
    "\n",
    "#With data separated by year\n",
    "df_countries_time['adj_lon'] = np.where(test_group_time[df_countries_time['country']]>1, \n",
    "                                   (df_countries_time['Longitude']+df_countries_time.subtype.map(lambda x: jitter_dict[x])\n",
    "                                   ), df_countries_time['Longitude'])\n",
    "\n",
    "df_countries_time['adj_lat'] = np.where(test_group_time[df_countries_time['country']]>1, \n",
    "                                   (df_countries_time['Latitude']+df_countries_time.subtype.map(lambda x: jitter_dict[x])\n",
    "                                   ), df_countries_time['Latitude'])\n"
   ]
  },
  {
   "cell_type": "code",
   "execution_count": 146,
   "metadata": {
    "scrolled": false
   },
   "outputs": [
    {
     "data": {
      "text/html": [
       "<iframe id=\"igraph\" scrolling=\"no\" style=\"border:none;\" seamless=\"seamless\" src=\"https://plot.ly/~kistlerk/54.embed\" height=\"525px\" width=\"100%\"></iframe>"
      ],
      "text/plain": [
       "<plotly.tools.PlotlyDisplay object>"
      ]
     },
     "execution_count": 146,
     "metadata": {},
     "output_type": "execute_result"
    }
   ],
   "source": [
    "scale_markers = 10\n",
    "map_list = []\n",
    "cmap= {'A':'royalblue','B':'salmon'}\n",
    "\n",
    "\n",
    "\n",
    "for i in range(len(df_countries)):\n",
    "\n",
    "    map_country = dict(\n",
    "        type = 'scattergeo',\n",
    "#         locationmode = 'country names',\n",
    "#         locations = [df_countries.loc[i,'country']],\n",
    "        lat = [df_countries.loc[i,'adj_lat']],\n",
    "        lon = [df_countries.loc[i,'adj_lon']],\n",
    "        marker = dict(\n",
    "            size = df_countries.loc[i,'count']*scale_markers,\n",
    "            color = cmap[df_countries.loc[i,'subtype']],\n",
    "            line = dict(width=0.5, color='rgb(40,40,40)'),\n",
    "            opacity=0.5,\n",
    "            sizemode = 'diameter'),\n",
    "        hovertext = 'Subtype '+df_countries.loc[i,'subtype']+' : '+str(df_countries.loc[i,'count'])+' sequences',\n",
    "        name = df_countries.loc[i,'country']+' '+df_countries.loc[i,'subtype'],\n",
    "        hoverinfo = 'text+name'\n",
    "    )\n",
    "    map_list.append(map_country)\n",
    "\n",
    "    \n",
    "    \n",
    "layout = dict(\n",
    "        title = 'Global distribution of RSV',\n",
    "        showlegend = False,\n",
    "        geo = dict(\n",
    "            scope='world',\n",
    "            showland = True,\n",
    "            landcolor = 'rgb(217, 217, 217)',\n",
    "            countrywidth=1,\n",
    "        ),\n",
    "    )\n",
    "\n",
    "fig = dict(data=map_list, layout=layout)\n",
    "py.iplot(fig)"
   ]
  },
  {
   "cell_type": "code",
   "execution_count": 185,
   "metadata": {},
   "outputs": [
    {
     "data": {
      "text/html": [
       "<iframe id=\"igraph\" scrolling=\"no\" style=\"border:none;\" seamless=\"seamless\" src=\"https://plot.ly/~kistlerk/80.embed\" height=\"525px\" width=\"100%\"></iframe>"
      ],
      "text/plain": [
       "<plotly.tools.PlotlyDisplay object>"
      ]
     },
     "execution_count": 185,
     "metadata": {},
     "output_type": "execute_result"
    }
   ],
   "source": [
    "#With time slider\n",
    "\n",
    "scale_markers = 10\n",
    "map_list = []\n",
    "cmap= {'A':'royalblue','B':'salmon'}\n",
    "year_range = [2010,2011,2012]\n",
    "\n",
    "\n",
    "for i in range(len(df_countries_time)):\n",
    "\n",
    "    map_country = dict(\n",
    "        type = 'scattergeo',\n",
    "#         locationmode = 'country names',\n",
    "#         locations = [df_countries.loc[i,'country']],\n",
    "        lat = [df_countries_time.loc[i,'adj_lat']],\n",
    "        lon = [df_countries_time.loc[i,'adj_lon']],\n",
    "        marker = dict(\n",
    "            size = df_countries_time.loc[i,'count']*scale_markers,\n",
    "            color = cmap[df_countries_time.loc[i,'subtype']],\n",
    "            line = dict(width=0.5, color='rgb(40,40,40)'),\n",
    "            opacity=0.5,\n",
    "            sizemode = 'diameter'),\n",
    "        hovertext = 'Subtype '+df_countries_time.loc[i,'subtype']+' : '+str(df_countries_time.loc[i,'count'])+' sequences',\n",
    "        name = df_countries_time.loc[i,'country']+' '+df_countries_time.loc[i,'subtype'],\n",
    "        hoverinfo = 'text+name'\n",
    "    )\n",
    "    map_list.append(map_country)\n",
    "\n",
    "steps = []\n",
    "for year in year_range:\n",
    "    step = dict(\n",
    "    method = 'restyle', \n",
    "    label = year,\n",
    "    args = ['visible', [False] * len(df_countries_time)])\n",
    "    for i in range(len(df_countries_time)):\n",
    "        if df_countries_time.loc[i,'year']==year:\n",
    "\n",
    "            step['args'][1][i] = True # Toggle i'th year to \"visible\"\n",
    "    steps.append(step)   \n",
    "            \n",
    "layout = dict(\n",
    "        title = 'Global distribution of RSV',\n",
    "        showlegend = False,\n",
    "        sliders = [dict(\n",
    "            steps = steps\n",
    "        )],\n",
    "        geo = dict(\n",
    "            scope='world',\n",
    "            showland = True,\n",
    "            landcolor = 'rgb(217, 217, 217)',\n",
    "            countrywidth=1,\n",
    "        ),\n",
    "    )\n",
    "\n",
    "fig = dict(data=map_list, layout=layout)\n",
    "py.iplot(fig)"
   ]
  }
 ],
 "metadata": {
  "kernelspec": {
   "display_name": "Python 3",
   "language": "python",
   "name": "python3"
  },
  "language_info": {
   "codemirror_mode": {
    "name": "ipython",
    "version": 3
   },
   "file_extension": ".py",
   "mimetype": "text/x-python",
   "name": "python",
   "nbconvert_exporter": "python",
   "pygments_lexer": "ipython3",
   "version": "3.6.6"
  }
 },
 "nbformat": 4,
 "nbformat_minor": 2
}
